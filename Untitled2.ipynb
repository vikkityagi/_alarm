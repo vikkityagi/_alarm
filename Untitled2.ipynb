{
 "cells": [
  {
   "cell_type": "markdown",
   "metadata": {},
   "source": [
    "# Tic Tac Toe game\n"
   ]
  },
  {
   "cell_type": "code",
   "execution_count": 1,
   "metadata": {},
   "outputs": [],
   "source": [
    "import numpy as np\n",
    "import random"
   ]
  },
  {
   "cell_type": "code",
   "execution_count": 2,
   "metadata": {},
   "outputs": [],
   "source": [
    "arr=np.ones((3,3),dtype=str)"
   ]
  },
  {
   "cell_type": "code",
   "execution_count": 3,
   "metadata": {},
   "outputs": [],
   "source": [
    "def isplayerwin(arr,sign1,sign2,player1,player2):\n",
    "    if arr[0][0]==sign1 and arr[0][1]==sign1 and arr[0][2]==sign1: \n",
    "        print(player1, ' win')\n",
    "        return player1\n",
    "    elif arr[0][0]==sign1 and arr[1][0]==sign1 and arr[2][0]==sign1:\n",
    "        print(player1, ' win')\n",
    "        return player1\n",
    "    elif arr[0][0]==sign1 and arr[1][1]==sign1 and arr[2][2]==sign1:\n",
    "        print(player1, ' win')\n",
    "        return player1\n",
    "    elif arr[0][1]==sign1 and arr[1][1]==sign1 and arr[2][1]==sign1:\n",
    "        print(player1, ' win')\n",
    "        return player1\n",
    "    elif arr[0][2]==sign1 and arr[1][1]==sign1 and arr[2][0]==sign1:\n",
    "        print(player1, ' win')\n",
    "        return player1\n",
    "    elif arr[1][0]==sign1 and arr[1][1]==sign1 and arr[1][2]==sign1:\n",
    "        print(player1, ' win')\n",
    "        return player1\n",
    "    elif arr[2][0]==sign1 and arr[2][1]==sign1 and arr[2][2]==sign1:\n",
    "        print(player1, ' win')\n",
    "        return player1\n",
    "    \n",
    "    if arr[0][0]==sign2 and arr[0][1]==sign2 and arr[0][2]==sign2: \n",
    "        print(player2, ' win')\n",
    "        return player2\n",
    "    elif arr[0][0]==sign2 and arr[1][0]==sign2 and arr[2][0]==sign2:\n",
    "        print(player2, ' win')\n",
    "        return player2\n",
    "    elif arr[0][0]==sign2 and arr[1][1]==sign2 and arr[2][2]==sign2:\n",
    "        print(player2, ' win')\n",
    "        return player2\n",
    "    elif arr[0][1]==sign2 and arr[1][1]==sign2 and arr[2][1]==sign2:\n",
    "        print(player2, ' win')\n",
    "        return player2\n",
    "    elif arr[0][2]==sign2 and arr[1][1]==sign2 and arr[2][0]==sign2:\n",
    "        print(player2, ' win')\n",
    "        return player2\n",
    "    elif arr[1][0]==sign2 and arr[1][1]==sign2 and arr[1][2]==sign2:\n",
    "        print(player2, ' win')\n",
    "        return player2\n",
    "    elif arr[2][0]==sign2 and arr[2][1]==sign2 and arr[2][2]==sign2:\n",
    "        print(player2, ' win')\n",
    "        return player2 \n",
    "    \n",
    "    return False\n",
    "    "
   ]
  },
  {
   "cell_type": "code",
   "execution_count": 4,
   "metadata": {},
   "outputs": [],
   "source": [
    "def isEmpty(arr):\n",
    "    temp=False\n",
    "    for i in range(arr.shape[0]):\n",
    "        for j in range(arr.shape[1]):\n",
    "            if arr[i][j]=='1':\n",
    "                temp=True\n",
    "    if temp==True:\n",
    "        return True\n",
    "    else:\n",
    "        return False"
   ]
  },
  {
   "cell_type": "code",
   "execution_count": 5,
   "metadata": {},
   "outputs": [],
   "source": [
    "def turn1(arr,sign):\n",
    "    temp=False\n",
    "    if isEmpty(arr):\n",
    "        \n",
    "        while temp==False:\n",
    "            print(arr ,' and your sign is ', sign)\n",
    "            print(player1,' turn')\n",
    "            op=list(map(int,input('where you would keep the item?').split()))\n",
    "            if arr[op[0]][op[1]]=='1':\n",
    "                temp=True\n",
    "                arr[op[0]][op[1]]=sign\n",
    "                return temp\n",
    "            else:\n",
    "                print('try again!')\n",
    "                temp=False\n",
    "    else:\n",
    "        print(arr)\n",
    "        return False"
   ]
  },
  {
   "cell_type": "code",
   "execution_count": 6,
   "metadata": {},
   "outputs": [],
   "source": [
    "def turn2(arr,sign):\n",
    "    temp=False\n",
    "    if isEmpty(arr):\n",
    "        \n",
    "        while temp==False:\n",
    "            print(arr,' and your sign is ', sign)\n",
    "            print(player2,' turn')\n",
    "            op=list(map(int,input('where you would keep the item?').split()))\n",
    "            if arr[op[0]][op[1]]=='1':\n",
    "                temp=True\n",
    "                arr[op[0]][op[1]]=sign\n",
    "                return temp\n",
    "            else:\n",
    "                print('try again!')\n",
    "                temp=False\n",
    "    else:\n",
    "        print(arr)\n",
    "        return False"
   ]
  },
  {
   "cell_type": "code",
   "execution_count": null,
   "metadata": {},
   "outputs": [
    {
     "name": "stdout",
     "output_type": "stream",
     "text": [
      "****welcome****\n",
      "Name?vikki\n",
      "Name?vasu\n",
      "[['1' '1' '1']\n",
      " ['1' '1' '1']\n",
      " ['1' '1' '1']]  and your sign is  x\n",
      "vikki  turn\n",
      "where you would keep the item?0 0\n",
      "[['x' '1' '1']\n",
      " ['1' '1' '1']\n",
      " ['1' '1' '1']]  and your sign is  0\n",
      "vasu  turn\n",
      "where you would keep the item?0 0\n",
      "try again!\n",
      "[['x' '1' '1']\n",
      " ['1' '1' '1']\n",
      " ['1' '1' '1']]  and your sign is  0\n",
      "vasu  turn\n"
     ]
    }
   ],
   "source": [
    "print('****welcome****')\n",
    "player1=input('Name?')\n",
    "player2=input('Name?')\n",
    "choose1=random.choice(['0','x'])\n",
    "if choose1=='0':\n",
    "    choose2='x'\n",
    "else:\n",
    "    choose2='0'\n",
    "temp=True\n",
    "try:\n",
    "    while isEmpty:\n",
    "        res1=turn1(arr,choose1)\n",
    "        res2=isplayerwin(arr,choose1,choose2,player1,player2)\n",
    "        if res1==False or res2!=False:\n",
    "            break\n",
    "        res3=turn2(arr,choose2)\n",
    "        res4=isplayerwin(arr,choose1,choose2,player1,player2)\n",
    "        if res3==False or res4!=False:\n",
    "            break\n",
    "except Exception as e:\n",
    "    print(e)\n",
    "        \n",
    "        \n",
    "            "
   ]
  },
  {
   "cell_type": "code",
   "execution_count": null,
   "metadata": {},
   "outputs": [],
   "source": []
  },
  {
   "cell_type": "code",
   "execution_count": null,
   "metadata": {},
   "outputs": [],
   "source": []
  },
  {
   "cell_type": "code",
   "execution_count": null,
   "metadata": {},
   "outputs": [],
   "source": []
  }
 ],
 "metadata": {
  "kernelspec": {
   "display_name": "Python 3",
   "language": "python",
   "name": "python3"
  },
  "language_info": {
   "codemirror_mode": {
    "name": "ipython",
    "version": 3
   },
   "file_extension": ".py",
   "mimetype": "text/x-python",
   "name": "python",
   "nbconvert_exporter": "python",
   "pygments_lexer": "ipython3",
   "version": "3.8.1"
  }
 },
 "nbformat": 4,
 "nbformat_minor": 4
}
